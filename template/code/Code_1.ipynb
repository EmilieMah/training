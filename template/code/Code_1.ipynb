{
 "cells": [
  {
   "cell_type": "markdown",
   "id": "6dd59d90-9ee9-4a7d-84a6-b57dc167262e",
   "metadata": {},
   "source": [
    "# Cat game"
   ]
  },
  {
   "cell_type": "code",
   "execution_count": null,
   "id": "b3d937d7-624b-48cf-991b-d0c3d97a554b",
   "metadata": {},
   "outputs": [],
   "source": []
  }
 ],
 "metadata": {
  "kernelspec": {
   "display_name": "Python 3 (ipykernel)",
   "language": "python",
   "name": "python3"
  },
  "language_info": {
   "codemirror_mode": {
    "name": "ipython",
    "version": 3
   },
   "file_extension": ".py",
   "mimetype": "text/x-python",
   "name": "python",
   "nbconvert_exporter": "python",
   "pygments_lexer": "ipython3",
   "version": "3.9.12"
  }
 },
 "nbformat": 4,
 "nbformat_minor": 5
}
